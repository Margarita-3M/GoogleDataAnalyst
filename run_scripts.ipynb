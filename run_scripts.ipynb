{
 "cells": [
  {
   "cell_type": "markdown",
   "id": "cdc4cdf0-7c55-4394-8b29-17b37a5cea5a",
   "metadata": {
    "tags": []
   },
   "source": [
    "# Cyclistic: a bike-share program \n",
    "## Scripts to work with the raw data"
   ]
  },
  {
   "cell_type": "code",
   "execution_count": 1,
   "id": "4bf66848-35be-44ea-8850-16032685828b",
   "metadata": {},
   "outputs": [
    {
     "name": "stdout",
     "output_type": "stream",
     "text": [
      "Out file: /Users/margaritamelnikova/Documents/00_learning/2021_GoogleDataAnalytics_Project/data/combined.csv\n",
      "Working with: /Users/margaritamelnikova/Documents/00_learning/2021_GoogleDataAnalytics_Project/data/202109-divvy-tripdata.csv\n",
      "Working with: /Users/margaritamelnikova/Documents/00_learning/2021_GoogleDataAnalytics_Project/data/202104-divvy-tripdata.csv\n",
      "Working with: /Users/margaritamelnikova/Documents/00_learning/2021_GoogleDataAnalytics_Project/data/202107-divvy-tripdata.csv\n",
      "Working with: /Users/margaritamelnikova/Documents/00_learning/2021_GoogleDataAnalytics_Project/data/202111-divvy-tripdata.csv\n",
      "Working with: /Users/margaritamelnikova/Documents/00_learning/2021_GoogleDataAnalytics_Project/data/202102-divvy-tripdata.csv\n",
      "Working with: /Users/margaritamelnikova/Documents/00_learning/2021_GoogleDataAnalytics_Project/data/202112-divvy-tripdata.csv\n",
      "Working with: /Users/margaritamelnikova/Documents/00_learning/2021_GoogleDataAnalytics_Project/data/202103-divvy-tripdata.csv\n",
      "Working with: /Users/margaritamelnikova/Documents/00_learning/2021_GoogleDataAnalytics_Project/data/202201-divvy-tripdata.csv\n",
      "Working with: /Users/margaritamelnikova/Documents/00_learning/2021_GoogleDataAnalytics_Project/data/202110-divvy-tripdata.csv\n",
      "Working with: /Users/margaritamelnikova/Documents/00_learning/2021_GoogleDataAnalytics_Project/data/202106-divvy-tripdata.csv\n",
      "Working with: /Users/margaritamelnikova/Documents/00_learning/2021_GoogleDataAnalytics_Project/data/202108-divvy-tripdata.csv\n",
      "Working with: /Users/margaritamelnikova/Documents/00_learning/2021_GoogleDataAnalytics_Project/data/202105-divvy-tripdata.csv\n",
      "The file is ready\n",
      "Initial shape: (5601999, 13)\n",
      "Drop duplicates, rows with NULL and extra cols - new shape: (5597245, 9). Removed 4754 lines.\n",
      "The file is ready\n"
     ]
    }
   ],
   "source": [
    "import scripts\n",
    "path = '/Users/margaritamelnikova/Documents/00_learning/2021_GoogleDataAnalytics_Project/data'\n",
    "scripts.get_combined_csv(path, 'combined.csv')\n",
    "scripts.get_cleaned_csv(path, 'combined.csv', 'cleared.csv')"
   ]
  }
 ],
 "metadata": {
  "kernelspec": {
   "display_name": "Python 3 (ipykernel)",
   "language": "python",
   "name": "python3"
  },
  "language_info": {
   "codemirror_mode": {
    "name": "ipython",
    "version": 3
   },
   "file_extension": ".py",
   "mimetype": "text/x-python",
   "name": "python",
   "nbconvert_exporter": "python",
   "pygments_lexer": "ipython3",
   "version": "3.9.7"
  }
 },
 "nbformat": 4,
 "nbformat_minor": 5
}
